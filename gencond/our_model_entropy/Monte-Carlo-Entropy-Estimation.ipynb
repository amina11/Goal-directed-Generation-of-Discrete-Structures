{
 "cells": [
  {
   "cell_type": "code",
   "execution_count": 1,
   "metadata": {
    "scrolled": true
   },
   "outputs": [],
   "source": [
    "import sys\n",
    "sys.path.insert(0, '..')\n",
    "\n",
    "import matplotlib.pyplot as plt\n",
    "\n",
    "from pathlib import Path\n",
    "\n",
    "import pickle, gzip, torch\n",
    "import torch.distributions as dist\n",
    "import numpy as np\n",
    "\n",
    "from rnn_utils import load_rnn_model, load_smiles_from_list, rnn_start_token_vector\n",
    "from smiles_char_dict import SmilesCharDictionary"
   ]
  },
  {
   "cell_type": "code",
   "execution_count": 2,
   "metadata": {},
   "outputs": [],
   "source": [
    "test_smiles, test_prop = np.load(\"../../data/QM9/QM9_clean_smi_test_smile.npz\",allow_pickle=True).values()\n",
    "#prior = pickle.load(gzip.open('../data/prior.pkl.gz'))\n",
    "train_smiles, train_prop = np.load(\"../../data/QM9/QM9_clean_smi_train_smile.npz\",allow_pickle=True).values()\n",
    "\n",
    "model_path = '../lstm/output/QM9/2020_1_17/model_79_0.167.pt'\n",
    "model_def = Path(model_path).with_suffix('.json')\n",
    "\n",
    "# get two RNNs: one trained, one random\n",
    "trained_model = load_rnn_model(model_def, model_path, device='cpu', copy_to_cpu=True)\n",
    "random_model = load_rnn_model(model_def, model_path, device='cpu', copy_to_cpu=True)\n",
    "random_model.init_weights()\n"
   ]
  },
  {
   "cell_type": "code",
   "execution_count": 3,
   "metadata": {},
   "outputs": [
    {
     "data": {
      "text/plain": [
       "47"
      ]
     },
     "execution_count": 3,
     "metadata": {},
     "output_type": "execute_result"
    }
   ],
   "source": [
    "trained_model.input_size"
   ]
  },
  {
   "cell_type": "markdown",
   "metadata": {},
   "source": [
    "# Define a function to sample from the RNN-based model"
   ]
  },
  {
   "cell_type": "code",
   "execution_count": 4,
   "metadata": {},
   "outputs": [],
   "source": [
    "def sample_from_model(model, y, N_samples, max_len=100, greedy=False):\n",
    "    \"\"\" Draw samples from the model, and return three things:\n",
    "    \n",
    "        (1) the sampled values\n",
    "        (2) the probability corresponding to each of those sampled values\n",
    "        (3) the probability distributions used for sampling at each t = 1,…,T\n",
    "        \n",
    "        If the argument `greedy=True`, then instead of sampling at each\n",
    "        step it deterministically draws the maximum of the distribution.\n",
    "    \"\"\"\n",
    "    device = y.device\n",
    "    spot_check = True\n",
    "    model.eval()\n",
    "    \n",
    "    # hold the output here\n",
    "    actions = torch.zeros((N_samples, max_len), dtype=torch.long).to(device)\n",
    "    sampled_probs = torch.zeros((N_samples, max_len)).to(device)\n",
    "    sampling_dists = torch.zeros((N_samples, max_len, model.input_size)).to(device)\n",
    "    #sampling_dists = np.empty((batch_size, max_len), dtype=object)\n",
    "\n",
    "    # initialization for LSTM sampling\n",
    "    hidden = model.init_hidden(N_samples, device)\n",
    "    inp = rnn_start_token_vector(N_samples, device)\n",
    "    \n",
    "    # run character-by-character...\n",
    "    for char in range(max_len):\n",
    "        # one step forward\n",
    "        output, hidden = model(inp, y.expand(N_samples, -1), hidden)\n",
    "\n",
    "        prob = torch.softmax(output, dim=2)\n",
    "        if greedy:\n",
    "            # alternative, if we want to take the max instead of sampling\n",
    "            action = output.argmax(dim=2)             \n",
    "        else:\n",
    "            d = dist.Categorical(probs=prob)\n",
    "            action = d.sample()\n",
    "            \n",
    "        # store results\n",
    "        actions[:,char] = action.squeeze(1)\n",
    "        sampled_probs[:,char] = prob.squeeze(1)[torch.arange(len(action)),action.squeeze(1)]\n",
    "        sampling_dists[:,char] = prob.squeeze(1)\n",
    "\n",
    "        # double-check there is no bug\n",
    "        if spot_check:\n",
    "            j = np.random.randint(N_samples)\n",
    "            assert sampling_dists[j,char,action[j]] == sampled_probs[j,char]\n",
    "\n",
    "        # input into next timestep of LSTM\n",
    "        inp = action\n",
    "      \n",
    "\n",
    "    return actions, sampled_probs, sampling_dists\n"
   ]
  },
  {
   "cell_type": "markdown",
   "metadata": {},
   "source": [
    "# Different ways of approximating the entropy\n",
    "\n",
    "The entropy of $p_\\theta(x | y) = \\prod_{t=1}^T p_\\theta(x_t | x_{1:t-1}, y)$ is\n",
    "\n",
    "$$H[p_\\theta(x|y)] = - E_{p_\\theta(x | y)}[\\log p_\\theta(x | y)] = -E_{p_\\theta(x | y)}\\left[\\sum_{t=1}^T \\log p_\\theta(x_t | x_{1:t-1}, y)\\right].$$\n",
    "\n",
    "The naive monte carlo estimator involves sampling trajectories $x$, given $y$, and then evaluating the log probabilities.\n",
    "\n",
    "$$\\hat H_{MC} = - \\frac{1}{S} \\sum_{s=1}^S \\sum_{t=1}^T \\log p_\\theta(x_t^s | x^s_{1:t-1}, y) $$\n",
    "\n",
    "for $x_t^s \\sim p_\\theta(x | y)$.\n",
    "\n",
    "The alternative way of approximating the entropy involves decomposing this into a sequence of other entropies. In this way, we have\n",
    "\n",
    "$$H[p_\\theta(x|y)] = H[p_\\theta(x_1 | y)] + \\sum_{t=2}^T E_{p_\\theta(x_{1:t-1}|y)}\\left[H[p_\\theta(x_t | x_{1:t-1}, y)]\\right].$$\n",
    "\n",
    "Since the entropy for each individual $x_t$ is cheap enough to compute directly in closed form, we can do so and just use sampling in order to generate the values we condition on at each step.\n",
    "This probably should be lower variance.\n",
    "Also, in the case when $x_t$ are sampled from continuous distributions, this also would be easy to directly reparameterize and use to take gradients.\n",
    "\n",
    "Let's try this for a few different number of samples, and see what the distribution of the estimators look like.\n",
    "We'll call the first one **Estimator A** and the second one **Estimator B**."
   ]
  },
  {
   "cell_type": "code",
   "execution_count": 5,
   "metadata": {},
   "outputs": [
    {
     "name": "stdout",
     "output_type": "stream",
     "text": [
      "1569\n",
      "Our property vector today:\n",
      " [-0.845776   -0.45506914 -0.12361375 -0.50290503 -0.80384633  0.95706758\n",
      "  0.05098709 -0.11251635  1.04039543]\n"
     ]
    }
   ],
   "source": [
    "# pick a random properties value\n",
    "index = np.random.randint(len(test_smiles))\n",
    "print(index)\n",
    "#y = prior.transform(properties[index:index+1])\n",
    "def normalize(prop):\n",
    "    train_smiles, train_prop = np.load(\"../../data/QM9/QM9_clean_smi_train_smile.npz\",allow_pickle=True).values()\n",
    "    mean = np.mean(train_prop, axis = 0)\n",
    "    std = np.std(train_prop, axis = 0)\n",
    "    return (prop - mean) / std\n",
    "\n",
    "y = normalize(test_prop)[index:index+1]\n",
    "print(\"Our property vector today:\\n\", y.squeeze())"
   ]
  },
  {
   "cell_type": "code",
   "execution_count": 9,
   "metadata": {},
   "outputs": [
    {
     "name": "stdout",
     "output_type": "stream",
     "text": [
      "CPU times: user 1.49 s, sys: 0 ns, total: 1.49 s\n",
      "Wall time: 251 ms\n"
     ]
    }
   ],
   "source": [
    "%%time\n",
    "\n",
    "with torch.no_grad():\n",
    "    samples, probs, dists = sample_from_model(trained_model, torch.FloatTensor(y), 15)"
   ]
  },
  {
   "cell_type": "code",
   "execution_count": 12,
   "metadata": {},
   "outputs": [
    {
     "data": {
      "text/plain": [
       "torch.Size([15, 100, 47])"
      ]
     },
     "execution_count": 12,
     "metadata": {},
     "output_type": "execute_result"
    }
   ],
   "source": [
    "dists.shape"
   ]
  },
  {
   "cell_type": "code",
   "execution_count": null,
   "metadata": {},
   "outputs": [],
   "source": [
    "dists[1,20, 1]"
   ]
  },
  {
   "cell_type": "code",
   "execution_count": 13,
   "metadata": {},
   "outputs": [],
   "source": [
    "def test_mc_estimators(model, y, N_samples, N_trials=15):\n",
    "#     mc_est = np.array([entropy_simple_mc(model, y, N_samples) for _ in range(N_trials)])\n",
    "    with torch.no_grad():\n",
    "        est_A = np.zeros((N_trials,))\n",
    "        est_B = np.zeros((N_trials,))\n",
    "        for i in range(N_trials):\n",
    "            samples, probs, dists = sample_from_model(model, torch.FloatTensor(y), N_samples)\n",
    "            est_A[i] = -probs.log().sum(-1).mean()\n",
    "            est_B[i] = -((dists+1e-45).log()*dists).sum(-1).sum(-1).mean()\n",
    "            \n",
    "    dist_A = dist.Normal(est_A.mean(), est_A.std())\n",
    "    dist_B = dist.Normal(est_B.mean(), est_B.std())\n",
    "\n",
    "    # plot them both\n",
    "    plt.subplot(121)\n",
    "    plt.hist(est_A, bins=20);\n",
    "    plt.title(\"%d samples, estimator A\" % N_samples)\n",
    "    plt.xlabel(\"mean = %0.3f, std = %0.3f\" % (dist_A.loc.item(), dist_A.scale.item()))\n",
    "\n",
    "    plt.subplot(122)\n",
    "    plt.hist(est_B, bins=20);\n",
    "    plt.title(\"%d samples, estimator B\" % N_samples)\n",
    "    plt.xlabel(\"mean = %0.3f, std = %0.3f\" % (dist_B.loc.item(), dist_B.scale.item()))\n",
    "\n",
    "\n",
    "    return est_A, est_B, dist_A, dist_B"
   ]
  },
  {
   "cell_type": "code",
   "execution_count": 14,
   "metadata": {},
   "outputs": [
    {
     "name": "stdout",
     "output_type": "stream",
     "text": [
      "CPU times: user 1min 22s, sys: 719 ms, total: 1min 22s\n",
      "Wall time: 14.7 s\n"
     ]
    },
    {
     "data": {
      "image/png": "[encoded data removed]",
      "text/plain": [
       "<Figure size 576x216 with 2 Axes>"
      ]
     },
     "metadata": {
      "needs_background": "light"
     },
     "output_type": "display_data"
    },
    {
     "data": {
      "image/png": "[encoded data removed]",
      "text/plain": [
       "<Figure size 576x216 with 2 Axes>"
      ]
     },
     "metadata": {
      "needs_background": "light"
     },
     "output_type": "display_data"
    },
    {
     "data": {
      "image/png": "[encoded data removed]",
      "text/plain": [
       "<Figure size 576x216 with 2 Axes>"
      ]
     },
     "metadata": {
      "needs_background": "light"
     },
     "output_type": "display_data"
    }
   ],
   "source": [
    "%%time\n",
    "plt.figure(figsize=(8,3))\n",
    "tmp = test_mc_estimators(trained_model, y, 1, N_trials=15);\n",
    "trained_model_one_sample = tmp[-1]\n",
    "\n",
    "plt.figure(figsize=(8,3))\n",
    "tmp = test_mc_estimators(trained_model, y, 10, N_trials=15);\n",
    "\n",
    "plt.figure(figsize=(8,3))\n",
    "tmp = test_mc_estimators(trained_model, y, 50, N_trials=15);\n",
    "plt.savefig('entropy.jpg')"
   ]
  },
  {
   "cell_type": "markdown",
   "metadata": {},
   "source": [
    "### This last, best estimator we can treat as our \"ground truth\" for purposes of the next section."
   ]
  },
  {
   "cell_type": "code",
   "execution_count": 21,
   "metadata": {},
   "outputs": [
    {
     "data": {
      "text/plain": [
       "tensor(-333.6640)"
      ]
     },
     "execution_count": 21,
     "metadata": {},
     "output_type": "execute_result"
    }
   ],
   "source": [
    "trained_model_gt = tmp[-1]\n",
    "trained_model_gt.log_prob(1)"
   ]
  },
  {
   "cell_type": "code",
   "execution_count": 22,
   "metadata": {},
   "outputs": [
    {
     "data": {
      "text/plain": [
       "Normal(loc: 13.177141189575195, scale: 0.47150295972824097)"
      ]
     },
     "execution_count": 22,
     "metadata": {},
     "output_type": "execute_result"
    }
   ],
   "source": [
    "tmp[-1]"
   ]
  },
  {
   "cell_type": "markdown",
   "metadata": {},
   "source": [
    "### Let's also run this experiment again, but on a completely random (untrained) model."
   ]
  },
  {
   "cell_type": "code",
   "execution_count": null,
   "metadata": {},
   "outputs": [],
   "source": [
    "plt.figure(figsize=(8,3))\n",
    "tmp = test_mc_estimators(random_model, y, 1, N_trials=15);\n",
    "random_model_one_sample = tmp[-1]\n",
    "\n",
    "plt.figure(figsize=(8,3))\n",
    "tmp = test_mc_estimators(random_model, y, 10, N_trials=15);\n",
    "\n",
    "plt.figure(figsize=(8,3))\n",
    "tmp = test_mc_estimators(random_model, y, 50, N_trials=15);\n",
    "\n",
    "random_model_gt = tmp[-1]\n",
    "random_model_gt"
   ]
  },
  {
   "cell_type": "markdown",
   "metadata": {},
   "source": [
    "# Other approximations which allow gradient computation\n",
    "\n",
    "Possibilities:\n",
    "\n",
    "1. Deterministic greedy decoding by using the max, instead of sampling\n",
    "2. Straight-through estimator, taking a mean of the embeddings\n",
    "\n",
    "\n",
    "## Greedy decoding"
   ]
  },
  {
   "cell_type": "code",
   "execution_count": null,
   "metadata": {},
   "outputs": [],
   "source": [
    "_, probs, dists = sample_from_model(trained_model, torch.FloatTensor(y), 1, greedy=True)\n",
    "est_A_greedy = -probs.log().sum()\n",
    "est_B_greedy = -((dists + 1e-45).log()*dists).sum(-1).sum()\n",
    "\n",
    "domain = torch.linspace(trained_model_one_sample.loc.item() - 5*trained_model_one_sample.scale.item(),\n",
    "                        trained_model_one_sample.loc.item() + 5*trained_model_one_sample.scale.item(),\n",
    "                        200)\n",
    "\n",
    "plt.title(\"test on trained model\")\n",
    "plt.plot(domain, trained_model_gt.log_prob(domain).exp());\n",
    "plt.plot(domain, trained_model_one_sample.log_prob(domain).exp());\n",
    "height = plt.ylim()[1] * 0.25\n",
    "plt.plot([est_A_greedy, est_A_greedy], [0.0, height], '-')\n",
    "plt.plot([est_B_greedy, est_B_greedy], [0.0, height], '-')\n",
    "plt.legend(['MC 50 samples', 'MC one sample', 'greedy A', 'greedy B']);\n",
    "plt.xlabel(\"entropy estimate\");\n",
    "\n",
    "trained_greedy = est_B_greedy # save for later"
   ]
  },
  {
   "cell_type": "code",
   "execution_count": null,
   "metadata": {},
   "outputs": [],
   "source": [
    "_, probs, dists = sample_from_model(random_model, torch.FloatTensor(y), 1, greedy=True)\n",
    "est_A_greedy = -probs.log().sum()\n",
    "est_B_greedy = -(dists.log()*dists).sum(-1).sum()\n",
    "\n",
    "domain = torch.linspace(random_model_one_sample.loc.item() - 5*random_model_one_sample.scale.item(),\n",
    "                        random_model_one_sample.loc.item() + 5*random_model_one_sample.scale.item(),\n",
    "                        200)\n",
    "\n",
    "plt.title(\"test on random model\")\n",
    "plt.plot(domain, random_model_gt.log_prob(domain).exp());\n",
    "plt.plot(domain, random_model_one_sample.log_prob(domain).exp());\n",
    "height = plt.ylim()[1] * 0.25\n",
    "plt.plot([est_A_greedy, est_A_greedy], [0.0, height], '-')\n",
    "plt.plot([est_B_greedy, est_B_greedy], [0.0, height], '-')\n",
    "plt.legend(['MC 50 samples', 'MC one sample', 'greedy A', 'greedy B']);\n",
    "plt.xlabel(\"entropy estimate\");\n",
    "\n",
    "random_greedy = est_B_greedy # save for later"
   ]
  },
  {
   "cell_type": "markdown",
   "metadata": {},
   "source": [
    "#### Estimator A is pretty bad in this context. Let's look at B alone…"
   ]
  },
  {
   "cell_type": "code",
   "execution_count": null,
   "metadata": {},
   "outputs": [],
   "source": [
    "\n",
    "plt.title(\"test on random model, est B only\")\n",
    "plt.plot(domain, random_model_gt.log_prob(domain).exp());\n",
    "plt.plot(domain, random_model_one_sample.log_prob(domain).exp());\n",
    "height = plt.ylim()[1] * 0.25\n",
    "plt.plot([est_B_greedy, est_B_greedy], [0.0, height], '-')\n",
    "plt.legend(['MC 50 samples', 'MC one sample', 'greedy B']);\n",
    "plt.xlabel(\"entropy estimate\");"
   ]
  },
  {
   "cell_type": "markdown",
   "metadata": {},
   "source": [
    "That's probably fine, or at least good-enough to use as a regularizer during early stages of training (i.e. when the network is random-ish).\n",
    "\n",
    "Greedy decoding for the values we condition on seems to work reasonably well for approximating the entropy.\n",
    "It might be slow-ish though, since it does require unrolling the RNN.\n",
    "\n",
    "## Straight-through estimator\n",
    "\n",
    "For the straight-through estimator, instead of evaluating the RNN on the embedding of a single input, we compute the mean of the embeddings under the distribution. This is the \"wrong\" thing to do, but has precedent."
   ]
  },
  {
   "cell_type": "code",
   "execution_count": null,
   "metadata": {},
   "outputs": [],
   "source": [
    "# quick check: how to use the embedding layers directly\n",
    "\n",
    "inp = torch.nn.functional.one_hot(rnn_start_token_vector(10, 'cpu'), trained_model.input_size).float()\n",
    "v1 = inp @ trained_model.encoder.weight\n",
    "v2 = trained_model.encoder(rnn_start_token_vector(10, 'cpu'))\n",
    "assert (v1 == v2).float().mean().item() == 1.0"
   ]
  },
  {
   "cell_type": "code",
   "execution_count": null,
   "metadata": {},
   "outputs": [],
   "source": []
  },
  {
   "cell_type": "code",
   "execution_count": null,
   "metadata": {},
   "outputs": [],
   "source": [
    "def straight_through_estimate(model, y, max_len=100):\n",
    "    device = y.device\n",
    "    model.eval()\n",
    "    \n",
    "    # hold the output here\n",
    "    H_t = torch.zeros((max_len, )).to(device)\n",
    "\n",
    "    # initialization for LSTM sampling\n",
    "    hidden = model.init_hidden(1, device)\n",
    "    inp = torch.nn.functional.one_hot(rnn_start_token_vector(1, device), model.input_size).float()\n",
    "    \n",
    "    # run character-by-character...\n",
    "    for char in range(max_len):\n",
    "        # one step forward\n",
    "        # this requires reproducing the `forward` function of the model itself\n",
    "        embeds = inp @ model.encoder.weight\n",
    "        output, hidden = model.rnn(torch.cat((embeds, y.expand(1, -1).unsqueeze(1).expand(-1,1,-1)), -1), hidden)\n",
    "        output = model.decoder(output)\n",
    "        prob = torch.softmax(output, dim=2)\n",
    "        H_t[char] = -(prob.log() * prob).sum()\n",
    "        inp = prob # send probabilities instead of selecting next action\n",
    "\n",
    "    return H_t"
   ]
  },
  {
   "cell_type": "code",
   "execution_count": null,
   "metadata": {},
   "outputs": [],
   "source": [
    "with torch.no_grad():\n",
    "    H_est_s_trained = straight_through_estimate(trained_model, torch.FloatTensor(y)).sum()\n",
    "    H_est_s_random = straight_through_estimate(random_model, torch.FloatTensor(y)).sum()\n"
   ]
  },
  {
   "cell_type": "code",
   "execution_count": null,
   "metadata": {},
   "outputs": [],
   "source": [
    "domain = torch.linspace(trained_model_one_sample.loc.item() - 5*trained_model_one_sample.scale.item(),\n",
    "                        trained_model_one_sample.loc.item() + 5*trained_model_one_sample.scale.item(),\n",
    "                        200)\n",
    "\n",
    "plt.title(\"test on trained model\")\n",
    "plt.plot(domain, trained_model_gt.log_prob(domain).exp());\n",
    "plt.plot(domain, trained_model_one_sample.log_prob(domain).exp());\n",
    "height = plt.ylim()[1] * 0.25\n",
    "plt.plot([trained_greedy, trained_greedy], [0.0, height], '-')\n",
    "plt.plot([H_est_s_trained, H_est_s_trained], [0.0, height], '-')\n",
    "plt.legend(['MC 50 samples', 'MC one sample', 'greedy', 'straight-through']);\n",
    "plt.xlabel(\"entropy estimate\");"
   ]
  },
  {
   "cell_type": "code",
   "execution_count": null,
   "metadata": {},
   "outputs": [],
   "source": [
    "trained_model_one_sample.loc.item() "
   ]
  },
  {
   "cell_type": "code",
   "execution_count": null,
   "metadata": {},
   "outputs": [],
   "source": [
    "domain = torch.linspace(random_model_one_sample.loc.item() - 5*random_model_one_sample.scale.item(),\n",
    "                        random_model_one_sample.loc.item() + 5*random_model_one_sample.scale.item(),\n",
    "                        200)\n",
    "\n",
    "plt.title(\"test on random model\")\n",
    "plt.plot(domain, random_model_gt.log_prob(domain).exp());derivative\n",
    "plt.plot(domain, random_model_one_sample.log_prob(domain).exp())\n",
    "height = plt.ylim()[1] * 0.25\n",
    "plt.plot([random_greedy, random_greedy], [0.0, height], '-')\n",
    "plt.plot([H_est_s_random, H_est_s_random], [0.0, height], '-')\n",
    "plt.legend(['MC 50 samples', 'MC one sample', 'greedy', 'straight-through']);\n",
    "plt.xlabel(\"entropy estimate\");"
   ]
  },
  {
   "cell_type": "markdown",
   "metadata": {},
   "source": [
    "## Looks like the straight-through estimator is better on the random model, and the greedy estimator is better on the fully trained model!"
   ]
  },
  {
   "cell_type": "code",
   "execution_count": null,
   "metadata": {},
   "outputs": [],
   "source": [
    "def greedy_entropy_est(model, y, max_len=100):\n",
    "    \"\"\" Quick re-implementation of greedy entropy estimation \"\"\"\n",
    "    H_est = 0.0\n",
    "    device = y.device\n",
    "\n",
    "    # initialization for LSTM sampling\n",
    "    hidden = model.init_hidden(1, device)\n",
    "    inp = rnn_start_token_vector(1, device)\n",
    "    \n",
    "    # run character-by-character...\n",
    "    for char in range(max_len):\n",
    "        # one step forward\n",
    "        output, hidden = model(inp, y.expand(1, -1), hidden)\n",
    "        action = output.argmax(dim=2)\n",
    "\n",
    "        log_prob = output - torch.logsumexp(output, dim=-1, keepdim=True)\n",
    "        H_est += -(log_prob.exp() * log_prob).sum()\n",
    "        inp = action\n",
    "\n",
    "    return H_est\n",
    "\n",
    "\n",
    "print(trained_greedy.item(), greedy_entropy_est(trained_model, torch.FloatTensor(y)))\n",
    "print(random_greedy.item(), greedy_entropy_est(random_model, torch.FloatTensor(y)))"
   ]
  },
  {
   "cell_type": "code",
   "execution_count": null,
   "metadata": {},
   "outputs": [],
   "source": [
    "max_len"
   ]
  },
  {
   "cell_type": "code",
   "execution_count": null,
   "metadata": {},
   "outputs": [],
   "source": []
  }
 ],
 "metadata": {
  "kernelspec": {
   "display_name": "Python 3",
   "language": "python",
   "name": "python3"
  },
  "language_info": {
   "codemirror_mode": {
    "name": "ipython",
    "version": 3
   },
   "file_extension": ".py",
   "mimetype": "text/x-python",
   "name": "python",
   "nbconvert_exporter": "python",
   "pygments_lexer": "ipython3",
   "version": "3.6.9"
  }
 },
 "nbformat": 4,
 "nbformat_minor": 2
}
