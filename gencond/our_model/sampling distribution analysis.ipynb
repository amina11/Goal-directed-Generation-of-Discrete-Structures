{
 "cells": [
  {
   "cell_type": "code",
   "execution_count": 2,
   "metadata": {},
   "outputs": [],
   "source": [
    "import pickle\n",
    "import gzip\n",
    "import argparse\n",
    "import os\n",
    "import sys\n",
    "from torch.distributions.categorical import Categorical\n",
    "\n",
    "sys.path.append('../../')\n",
    "from guacamol.utils.helpers import setup_default_logger\n",
    "\n",
    "from smiles_rnn_distribution_learner import SmilesRnnDistributionLearner\n",
    "\n",
    "setup_default_logger()\n",
    "\n",
    "parser = argparse.ArgumentParser(description='Distribution learning benchmark for SMILES RNN',\n",
    "                                 formatter_class=argparse.ArgumentDefaultsHelpFormatter)\n",
    "parser.add_argument('--train_data', default='../../data/QM9/QM9_clean_smi_train_smile.npz',\n",
    "                    help='Full path to SMILES file containing training data')\n",
    "parser.add_argument('--valid_data', default='../../data/QM9/QM9_clean_smi_test_smile.npz',\n",
    "                    help='Full path to SMILES file containing validation data')\n",
    "parser.add_argument('--prop_model', default=\"../../data/QM9/prior.pkl.gz\", help='Saved model for properties distribution')    \n",
    "parser.add_argument('--output_dir', default='./output/Qm9/', help='Output directory')\n",
    "\n",
    "parser.add_argument('--batch_size', default=512, type=int, help='Size of a mini-batch for gradient descent')\n",
    "parser.add_argument('--valid_every', default=1000, type=int, help='Validate every so many batches')\n",
    "parser.add_argument('--print_every', default=10, type=int, help='Report every so many batches')\n",
    "parser.add_argument('--n_epochs', default=10, type=int, help='Number of training epochs')\n",
    "parser.add_argument('--max_len', default=280, type=int, help='Max length of a SMILES string')\n",
    "parser.add_argument('--hidden_size', default=512, type=int, help='Size of hidden layer')\n",
    "parser.add_argument('--n_layers', default=3, type=int, help='Number of layers for training')\n",
    "parser.add_argument('--rnn_dropout', default=0.2, type=float, help='Dropout value for RNN')\n",
    "parser.add_argument('--lr', default=1e-3, type=float, help='RNN learning rate')\n",
    "parser.add_argument('--seed', default=42, type=int, help='Random seed')\n",
    "\n",
    "args,_ = parser.parse_known_args()\n",
    "\n",
    "args.batch_size = 6\n",
    "\n"
   ]
  },
  {
   "cell_type": "code",
   "execution_count": 3,
   "metadata": {},
   "outputs": [],
   "source": [
    "# 1. lprepare the training and validation data\n",
    "import numpy as np \n",
    "import random \n",
    "from rnn_utils import get_tensor_dataset, load_smiles_and_properties, set_random_seed\n",
    "\n",
    "if args.output_dir is None:\n",
    "    args.output_dir = os.path.dirname(os.path.realpath(__file__))\n",
    "   \n",
    "if not os.path.exists(args.output_dir):\n",
    "    os.makedirs(args.output_dir)\n",
    "     \n",
    "        \n",
    "\n",
    "prop_model = pickle.load(gzip.open(args.prop_model))\n",
    "\n",
    "\n",
    "\n",
    "training_set=args.train_data\n",
    "validation_set=args.valid_data\n",
    "max_len = 100\n",
    "train_seqs, train_prop = load_smiles_and_properties(training_set, max_len)\n",
    "sample_indexs = np.arange(train_seqs.shape[0])\n",
    "random.shuffle(sample_indexs)\n",
    "train_x, train_y = train_seqs[sample_indexs[10000:],:], train_prop[sample_indexs[10000:],:]\n",
    "valid_x, valid_y = train_seqs[sample_indexs[:10000],:], train_prop[sample_indexs[:10000],:]\n",
    "\n",
    "if prop_model is not None:\n",
    "    train_y = prop_model.transform(train_y)\n",
    "    valid_y = prop_model.transform(valid_y)\n",
    "    \n",
    "    \n",
    "train_set = get_tensor_dataset(train_x, train_y)\n",
    "valid_set = get_tensor_dataset(valid_x, valid_y)"
   ]
  },
  {
   "cell_type": "code",
   "execution_count": 4,
   "metadata": {},
   "outputs": [],
   "source": [
    "from torch.utils.data import DataLoader\n",
    "import torch\n",
    "import logging\n",
    "\n",
    "PROPERTY_SIZE = 9\n",
    "hidden_size=512\n",
    "n_layers=3\n",
    "rnn_dropout=0.2\n",
    "batch_size=6\n",
    "num_workers=0\n",
    "\n",
    "\n",
    "cuda_available = torch.cuda.is_available()\n",
    "device_str = 'cuda' if cuda_available else 'cpu'\n",
    "device = torch.device(device_str)\n",
    "\n",
    "set_random_seed(42, device)\n",
    "\n",
    "\n",
    "data_loader = DataLoader(train_set,\n",
    "                                 batch_size=batch_size,\n",
    "                                 shuffle=True,\n",
    "                                 num_workers=num_workers,\n",
    "                                 pin_memory=True)\n",
    "\n",
    "for batch_index, batch_all in enumerate(data_loader):\n",
    "    batch = batch_all[:-1]\n",
    "    properties = batch_all[-1].to(device)\n",
    "    inp, tgt = batch"
   ]
  },
  {
   "cell_type": "code",
   "execution_count": 5,
   "metadata": {},
   "outputs": [],
   "source": [
    "from scipy.spatial.distance import cdist\n",
    "K = cdist(properties, torch.tensor(train_y).float(), metric='euclidean')"
   ]
  },
  {
   "cell_type": "markdown",
   "metadata": {},
   "source": [
    "1. sample according to knn "
   ]
  },
  {
   "cell_type": "code",
   "execution_count": 6,
   "metadata": {},
   "outputs": [],
   "source": [
    "sample_size = 10\n",
    "selected = np.argsort(K, axis=1)[:,:sample_size]"
   ]
  },
  {
   "cell_type": "code",
   "execution_count": 7,
   "metadata": {},
   "outputs": [
    {
     "data": {
      "text/plain": [
       "(5, 10)"
      ]
     },
     "execution_count": 7,
     "metadata": {},
     "output_type": "execute_result"
    }
   ],
   "source": [
    "selected.shape"
   ]
  },
  {
   "cell_type": "code",
   "execution_count": 7,
   "metadata": {},
   "outputs": [
    {
     "data": {
      "text/plain": [
       "tensor([-1.5999, -0.4318,  0.2557, -0.5177, -0.9237,  0.6546, -0.1682,\n",
       "         0.8152,  0.6067], device='cuda:0')"
      ]
     },
     "execution_count": 7,
     "metadata": {},
     "output_type": "execute_result"
    }
   ],
   "source": [
    "properties[0,:]"
   ]
  },
  {
   "cell_type": "code",
   "execution_count": 8,
   "metadata": {},
   "outputs": [
    {
     "data": {
      "text/plain": [
       "array([-1.59989955, -0.43184623,  0.25568422, -0.51772474, -0.92373615,\n",
       "        0.65461782, -0.16818697,  0.81516874,  0.60673663])"
      ]
     },
     "execution_count": 8,
     "metadata": {},
     "output_type": "execute_result"
    }
   ],
   "source": [
    "train_y[selected[0,0],:]"
   ]
  },
  {
   "cell_type": "code",
   "execution_count": 12,
   "metadata": {},
   "outputs": [
    {
     "data": {
      "text/plain": [
       "array([-1.34049748, -0.2083466 ,  0.27714319, -0.52015953, -0.76480597,\n",
       "        0.57043644, -0.39001386,  1.03966174,  0.36786741])"
      ]
     },
     "execution_count": 12,
     "metadata": {},
     "output_type": "execute_result"
    }
   ],
   "source": [
    "train_y[selected[0,1],:]"
   ]
  },
  {
   "cell_type": "code",
   "execution_count": 14,
   "metadata": {},
   "outputs": [
    {
     "data": {
      "text/plain": [
       "(5, 113885)"
      ]
     },
     "execution_count": 14,
     "metadata": {},
     "output_type": "execute_result"
    }
   ],
   "source": [
    "K.shape"
   ]
  },
  {
   "cell_type": "code",
   "execution_count": 16,
   "metadata": {},
   "outputs": [
    {
     "data": {
      "image/png": "[encoded data removed]",
      "text/plain": [
       "<Figure size 432x288 with 1 Axes>"
      ]
     },
     "metadata": {},
     "output_type": "display_data"
    }
   ],
   "source": [
    "import matplotlib.pyplot as plt\n",
    "plt.hist(K[0,:],200, density=True, facecolor='g')\n",
    "plt.show()"
   ]
  },
  {
   "cell_type": "code",
   "execution_count": 10,
   "metadata": {},
   "outputs": [
    {
     "ename": "IndexError",
     "evalue": "index 29658 is out of bounds for axis 0 with size 5",
     "output_type": "error",
     "traceback": [
      "\u001b[0;31m\u001b[0m",
      "\u001b[0;31mIndexError\u001b[0mTraceback (most recent call last)",
      "\u001b[0;32m<ipython-input-10-73e4e151967e>\u001b[0m in \u001b[0;36m<module>\u001b[0;34m()\u001b[0m\n\u001b[0;32m----> 1\u001b[0;31m \u001b[0mK\u001b[0m\u001b[0;34m[\u001b[0m\u001b[0mselected\u001b[0m\u001b[0;34m]\u001b[0m\u001b[0;34m\u001b[0m\u001b[0;34m\u001b[0m\u001b[0m\n\u001b[0m",
      "\u001b[0;31mIndexError\u001b[0m: index 29658 is out of bounds for axis 0 with size 5"
     ]
    }
   ],
   "source": [
    "K[selected]"
   ]
  },
  {
   "cell_type": "code",
   "execution_count": 11,
   "metadata": {},
   "outputs": [
    {
     "data": {
      "text/plain": [
       "(5, 10)"
      ]
     },
     "execution_count": 11,
     "metadata": {},
     "output_type": "execute_result"
    }
   ],
   "source": [
    "selected.shape"
   ]
  },
  {
   "cell_type": "code",
   "execution_count": null,
   "metadata": {},
   "outputs": [],
   "source": []
  }
 ],
 "metadata": {
  "kernelspec": {
   "display_name": "Python 3",
   "language": "python",
   "name": "python3"
  },
  "language_info": {
   "codemirror_mode": {
    "name": "ipython",
    "version": 3
   },
   "file_extension": ".py",
   "mimetype": "text/x-python",
   "name": "python",
   "nbconvert_exporter": "python",
   "pygments_lexer": "ipython3",
   "version": "3.6.9"
  }
 },
 "nbformat": 4,
 "nbformat_minor": 2
}
